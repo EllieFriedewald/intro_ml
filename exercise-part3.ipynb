{
 "cells": [
  {
   "cell_type": "markdown",
   "metadata": {},
   "source": [
    "# Introduction to Machine Learning\n",
    "# Exercise Part 3"
   ]
  },
  {
   "cell_type": "markdown",
   "metadata": {
    "id": "JWC5tKyP3x1e"
   },
   "source": [
    "Some code cells will be marked with \n",
    "```\n",
    "##########################\n",
    "######## To Do ###########\n",
    "##########################\n",
    "```\n",
    "\n",
    "This indicates that you are being asked to write a piece of code to complete the notebook."
   ]
  },
  {
   "cell_type": "markdown",
   "metadata": {},
   "source": [
    "# Part 3: Feature Engineering"
   ]
  },
  {
   "cell_type": "markdown",
   "metadata": {},
   "source": [
    "Classical machine learning methods often turn to manual feature engineering to extract elements of the data that the model will use for prediction. So far we have relied on the raw data alone, but in some cases well designed features can produce a better model than raw data alone."
   ]
  },
  {
   "cell_type": "code",
   "execution_count": 104,
   "metadata": {
    "id": "_DwKG_Gi3x1f"
   },
   "outputs": [],
   "source": [
    "import imageio as iio\n",
    "import skimage\n",
    "import sklearn.model_selection\n",
    "import sklearn.utils\n",
    "import sklearn.metrics\n",
    "import sklearn.preprocessing\n",
    "import numpy as np\n",
    "import matplotlib.pyplot as plt\n",
    "import os\n",
    "import pandas as pd\n",
    "import tqdm.auto\n",
    "import copy"
   ]
  },
  {
   "cell_type": "code",
   "execution_count": 4,
   "metadata": {
    "id": "Pkm3aspYX_WZ"
   },
   "outputs": [],
   "source": [
    "import tensorflow as tf\n",
    "gpus = tf.config.experimental.list_physical_devices('GPU')\n",
    "for gpu in gpus:\n",
    "      tf.config.experimental.set_memory_growth(gpu, True)\n",
    "        \n",
    "import tensorflow_addons as tfa\n",
    "\n",
    "from tensorflow.keras.layers import Input, Flatten, Dense, Activation, BatchNormalization, Conv2D, MaxPool2D, Softmax\n",
    "from tensorflow.keras import Model\n",
    "from tensorflow.keras.utils import plot_model"
   ]
  },
  {
   "cell_type": "markdown",
   "metadata": {},
   "source": [
    "## General setup\n",
    "You need to run all of the code cells from here down to the \"Introduction to image filters\" section. These blocks of code were directly taken from the prvious notebook so feel free to skip down to the image filter section once you have started them running to load the dataset.\n",
    "\n",
    "### Load dataset\n",
    "We will load the same dataset as the previous notebook."
   ]
  },
  {
   "cell_type": "code",
   "execution_count": 5,
   "metadata": {},
   "outputs": [],
   "source": [
    "data_dir = 'data/CellCycle'"
   ]
  },
  {
   "cell_type": "code",
   "execution_count": 6,
   "metadata": {},
   "outputs": [
    {
     "data": {
      "text/html": [
       "<div>\n",
       "<style scoped>\n",
       "    .dataframe tbody tr th:only-of-type {\n",
       "        vertical-align: middle;\n",
       "    }\n",
       "\n",
       "    .dataframe tbody tr th {\n",
       "        vertical-align: top;\n",
       "    }\n",
       "\n",
       "    .dataframe thead th {\n",
       "        text-align: right;\n",
       "    }\n",
       "</style>\n",
       "<table border=\"1\" class=\"dataframe\">\n",
       "  <thead>\n",
       "    <tr style=\"text-align: right;\">\n",
       "      <th></th>\n",
       "      <th>0</th>\n",
       "      <th>class</th>\n",
       "      <th>filepath</th>\n",
       "      <th>channel</th>\n",
       "      <th>id</th>\n",
       "    </tr>\n",
       "  </thead>\n",
       "  <tbody>\n",
       "    <tr>\n",
       "      <th>0</th>\n",
       "      <td>19</td>\n",
       "      <td>0</td>\n",
       "      <td>./Anaphase/12432_Ch3.ome.jpg</td>\n",
       "      <td>3</td>\n",
       "      <td>12432</td>\n",
       "    </tr>\n",
       "    <tr>\n",
       "      <th>1</th>\n",
       "      <td>8</td>\n",
       "      <td>0</td>\n",
       "      <td>./Anaphase/12432_Ch4.ome.jpg</td>\n",
       "      <td>4</td>\n",
       "      <td>12432</td>\n",
       "    </tr>\n",
       "    <tr>\n",
       "      <th>2</th>\n",
       "      <td>35</td>\n",
       "      <td>0</td>\n",
       "      <td>./Anaphase/12432_Ch6.ome.jpg</td>\n",
       "      <td>6</td>\n",
       "      <td>12432</td>\n",
       "    </tr>\n",
       "    <tr>\n",
       "      <th>3</th>\n",
       "      <td>36</td>\n",
       "      <td>0</td>\n",
       "      <td>./Anaphase/22004_Ch3.ome.jpg</td>\n",
       "      <td>3</td>\n",
       "      <td>22004</td>\n",
       "    </tr>\n",
       "    <tr>\n",
       "      <th>4</th>\n",
       "      <td>1</td>\n",
       "      <td>0</td>\n",
       "      <td>./Anaphase/22004_Ch4.ome.jpg</td>\n",
       "      <td>4</td>\n",
       "      <td>22004</td>\n",
       "    </tr>\n",
       "  </tbody>\n",
       "</table>\n",
       "</div>"
      ],
      "text/plain": [
       "    0  class                      filepath channel     id\n",
       "0  19      0  ./Anaphase/12432_Ch3.ome.jpg       3  12432\n",
       "1   8      0  ./Anaphase/12432_Ch4.ome.jpg       4  12432\n",
       "2  35      0  ./Anaphase/12432_Ch6.ome.jpg       6  12432\n",
       "3  36      0  ./Anaphase/22004_Ch3.ome.jpg       3  22004\n",
       "4   1      0  ./Anaphase/22004_Ch4.ome.jpg       4  22004"
      ]
     },
     "execution_count": 6,
     "metadata": {},
     "output_type": "execute_result"
    }
   ],
   "source": [
    "# Load dataframe with sample info\n",
    "df = pd.read_csv(os.path.join(data_dir, 'img.lst'), sep='\\t', header=None)\n",
    "df = df.rename(columns={1: 'class', 2: 'filepath'})\n",
    "df['channel'] = df['filepath'].str.split('/',expand=True)[2].str.split('_', expand=True)[1].str.slice(2,3)\n",
    "df['id'] = df['filepath'].str.split('/',expand=True)[2].str.split('_', expand=True)[0]\n",
    "df.head()"
   ]
  },
  {
   "cell_type": "code",
   "execution_count": 7,
   "metadata": {},
   "outputs": [
    {
     "name": "stderr",
     "output_type": "stream",
     "text": [
      "/var/folders/cz/1rzgr7p564q00vylf6hzyrgh0000gn/T/ipykernel_41035/2396819062.py:7: DeprecationWarning: Starting with ImageIO v3 the behavior of this function will switch to that of iio.v3.imread. To keep the current behavior (and make this warning dissapear) use `import imageio.v2 as imageio` or call `imageio.v2.imread` directly.\n",
      "  im.append(iio.imread(os.path.join(data_dir, r['filepath'])))\n"
     ]
    },
    {
     "name": "stdout",
     "output_type": "stream",
     "text": [
      "X shape: (32266, 66, 66, 3)\n",
      "y shape: (32266,)\n"
     ]
    }
   ],
   "source": [
    "# Load data stack\n",
    "ims = []\n",
    "ys = []\n",
    "for i, g in df.groupby('id'):\n",
    "    im = []\n",
    "    for _, r in g.iterrows():\n",
    "        im.append(iio.imread(os.path.join(data_dir, r['filepath'])))\n",
    "    ims.append(np.stack(im, axis=-1))\n",
    "    ys.append(r['class'])\n",
    "    \n",
    "X_data = np.stack(ims)\n",
    "y_data = np.stack(ys)\n",
    "print('X shape:', X_data.shape)\n",
    "print('y shape:', y_data.shape)"
   ]
  },
  {
   "cell_type": "code",
   "execution_count": 9,
   "metadata": {},
   "outputs": [],
   "source": [
    "def extract_classes(X_data, y_data, classes):\n",
    "    \"\"\"For a given dataset of categorical labels, this data\n",
    "    selects the datapoints associated with the classes of interest\n",
    "    and returns them stacked in a new array\n",
    "    \n",
    "    Args:\n",
    "        X_data (np.array): Array of x data\n",
    "        y_data (np.array): Array of categorical y data\n",
    "        classes (list): List of categorical classes to select\n",
    "        \n",
    "    Returns:\n",
    "        np.array: X data after extracting the classes of interest \n",
    "        np.array: y data after selecting the classes of interest\n",
    "    \"\"\"\n",
    "    X, y = [], []\n",
    "    for c in classes:\n",
    "        # Identify the indicies of the relevant class\n",
    "        idx = y_data == c\n",
    "        # Select the X and y data accordingly\n",
    "        X.append(X_data[idx, ..., 0:1])\n",
    "        y.append(y_data[idx])\n",
    "\n",
    "    # Restack the arrays\n",
    "    X = np.concatenate(X)\n",
    "    y = np.concatenate(y)\n",
    "    return X, y"
   ]
  },
  {
   "cell_type": "code",
   "execution_count": 10,
   "metadata": {},
   "outputs": [
    {
     "name": "stdout",
     "output_type": "stream",
     "text": [
      "(22934, 66, 66, 1) (22934,)\n"
     ]
    }
   ],
   "source": [
    "X, y = extract_classes(X_data, y_data, [4, 5])\n",
    "\n",
    "print(X.shape, y.shape)"
   ]
  },
  {
   "cell_type": "code",
   "execution_count": 11,
   "metadata": {},
   "outputs": [],
   "source": [
    "y[y == 4] = 0\n",
    "y[y == 5] = 1"
   ]
  },
  {
   "cell_type": "code",
   "execution_count": 12,
   "metadata": {
    "id": "842TuxybX_WX"
   },
   "outputs": [],
   "source": [
    "def balance_classes(X, y, minority_id):\n",
    "    \"\"\"For a given minority class id, upsample the minority class\n",
    "    to match the number of samples in the majority class\n",
    "    \n",
    "    Args:\n",
    "        X (np.array): Array of raw data\n",
    "        y (np.array): Array of class labels\n",
    "        minority_id (int): Integer of the minority class to be upsampled\n",
    "        \n",
    "    Returns:\n",
    "        np.array: X\n",
    "        np.array: y\n",
    "    \"\"\"\n",
    "    # Split the X and y arrays into sub arrays containing \n",
    "    # 1) only the minority samples and 2) the remaining samples\n",
    "    x_max = X[y != minority_id]\n",
    "    y_max = y[y != minority_id]\n",
    "    x_min = X[y == minority_id]\n",
    "    y_min = y[y == minority_id]\n",
    "    \n",
    "    # Use sklearn.utils.resample to samples from the minority sample array \n",
    "    # to match the number of samples in the second array\n",
    "    x_min, y_min = sklearn.utils.resample(x_min, y_min, n_samples=x_max.shape[0])\n",
    "    \n",
    "    # Concatenate the upsampled array 1 with the remaining array 2\n",
    "    X = np.concatenate([x_max, x_min])\n",
    "    y = np.concatenate([y_max, y_min])\n",
    "    \n",
    "    # Shuffle arrays to randomize sample order\n",
    "    X, y = sklearn.utils.shuffle(X, y)\n",
    "    \n",
    "    return X, y\n",
    "\n",
    "# Create dataset builder\n",
    "def build_dataset(X, y, batch_size=1):\n",
    "    # Create train/test/val splits\n",
    "    X_train, X_temp, y_train, y_temp = sklearn.model_selection.train_test_split(X, y, train_size=0.8)\n",
    "    X_val, X_test, y_val, y_test = sklearn.model_selection.train_test_split(X_temp, y_temp, train_size=0.5)\n",
    "    \n",
    "    # Balance classes in each split\n",
    "    X_train, y_train = balance_classes(X_train, y_train, 1)\n",
    "    X_test, y_test = balance_classes(X_test, y_test, 1)\n",
    "    X_val, y_val = balance_classes(X_val, y_val, 1)\n",
    "    \n",
    "    # Convert y data to categorical\n",
    "    y_train = tf.keras.utils.to_categorical(y_train)\n",
    "    y_test = tf.keras.utils.to_categorical(y_test)\n",
    "    y_val = tf.keras.utils.to_categorical(y_val)\n",
    "\n",
    "    train_dataset = tf.data.Dataset.from_tensor_slices((X_train, y_train))\n",
    "    val_dataset = tf.data.Dataset.from_tensor_slices((X_val, y_val))\n",
    "    test_dataset = tf.data.Dataset.from_tensor_slices((X_test, y_test))\n",
    "\n",
    "    train_dataset = train_dataset.shuffle(256).batch(batch_size)\n",
    "    val_dataset = val_dataset.batch(batch_size)\n",
    "    test_dataset = test_dataset.batch(batch_size)\n",
    "    \n",
    "    return {\n",
    "        'train': train_dataset,\n",
    "        'test': test_dataset,\n",
    "        'val': val_dataset\n",
    "    }"
   ]
  },
  {
   "cell_type": "markdown",
   "metadata": {},
   "source": [
    "### Model configuration"
   ]
  },
  {
   "cell_type": "code",
   "execution_count": 29,
   "metadata": {
    "id": "3-jix6tiX_WZ",
    "outputId": "a02646e0-7172-47c4-d57c-bdfb75e98ff9",
    "tags": []
   },
   "outputs": [],
   "source": [
    "# Define the linear classifier\n",
    "def create_linear_classifier():\n",
    "    \"\"\"Defines a basic linear classifier to predict 2 classes and \n",
    "    compiles the model with the following:\n",
    "    - Optimizer = Adam\n",
    "    - Loss = Categorical Crossentropy\n",
    "    - Metrics = Recall and precision for each class\n",
    "    \"\"\"\n",
    "    inputs = Input((X.shape[1], X.shape[2], 1),\n",
    "                   name='linear_classifier_input')\n",
    "    x = Flatten()(inputs)\n",
    "    x = Dense(2)(x)\n",
    "    x = Softmax(axis=-1)(x)\n",
    "    model = Model(inputs=inputs, outputs=x)\n",
    "    \n",
    "    model.compile(optimizer=tf.keras.optimizers.Adam(lr=1e-3, clipnorm=0.001),\n",
    "                  loss=tf.keras.losses.CategoricalCrossentropy(),\n",
    "                  metrics = [\n",
    "                      tf.keras.metrics.Recall(class_id=0),\n",
    "                      tf.keras.metrics.Recall(class_id=1),\n",
    "                      tf.keras.metrics.Precision(class_id=0),\n",
    "                      tf.keras.metrics.Precision(class_id=1)\n",
    "                  ])\n",
    "    return model"
   ]
  },
  {
   "cell_type": "code",
   "execution_count": 14,
   "metadata": {
    "id": "veiaElEQX_Wb"
   },
   "outputs": [],
   "source": [
    "# Define training parameters\n",
    "n_epochs=32"
   ]
  },
  {
   "cell_type": "code",
   "execution_count": 30,
   "metadata": {},
   "outputs": [],
   "source": [
    "def train_model(model, data, n_epochs, model_path):\n",
    "    \"\"\"Fits a model using data from a `DatasetBuilder`. \n",
    "    The weights of the model are saved in a folder according\n",
    "    to `model_path`\n",
    "    \n",
    "    Args:\n",
    "        model (tensorflow model): Model from `create_linear_classifier`\n",
    "        data (DatasetBuilder): Dataset builder object \n",
    "        n_epochs (int): Number of epochs to train for\n",
    "        model_path (str): Path to save model weights\n",
    "    \"\"\"\n",
    "    model.fit(\n",
    "        data['train'],\n",
    "        validation_data=data['val'],\n",
    "        epochs=n_epochs,\n",
    "        verbose=1,\n",
    "        callbacks=[\n",
    "            tf.keras.callbacks.ModelCheckpoint(\n",
    "                model_path, monitor='val_loss',\n",
    "                save_best_only=True, verbose=1,\n",
    "                save_weights_only=False),\n",
    "            tf.keras.callbacks.ReduceLROnPlateau(\n",
    "                monitor='val_loss', factor=0.5, verbose=1,\n",
    "                patience=3, min_lr=1e-7)\n",
    "        ]\n",
    "    )\n",
    "    return model"
   ]
  },
  {
   "cell_type": "markdown",
   "metadata": {},
   "source": [
    "### Benchmarking functions"
   ]
  },
  {
   "cell_type": "code",
   "execution_count": 16,
   "metadata": {},
   "outputs": [],
   "source": [
    "def benchmark_performance(y_true, y_pred):\n",
    "    \"\"\"Calculates recall, precision, f1 and a confusion matrix for sample predictions\n",
    "    \n",
    "    Args:\n",
    "        y_true (list): List of integers of true class values\n",
    "        y_pred (list): List of integers of predicted class value\n",
    "        cm_norm (optional): 'true' to return a normalized confusion matrix.\n",
    "            None to return an raw confusion matrix\n",
    "            \n",
    "    Returns:\n",
    "        dict: Dictionary with keys `recall`, `precision`, `f1`, and `cm`\n",
    "    \n",
    "    \"\"\"\n",
    "    _round = lambda x: round(x, 3)\n",
    "    \n",
    "    metrics = {\n",
    "        'recall': _round(sklearn.metrics.recall_score(y_true, y_pred)),\n",
    "        'precision': _round(sklearn.metrics.precision_score(y_true, y_pred)),\n",
    "        'f1': _round(sklearn.metrics.f1_score(y_true, y_pred)),\n",
    "        'cm': sklearn.metrics.confusion_matrix(y_true, y_pred, normalize=None),\n",
    "        'cm_norm': sklearn.metrics.confusion_matrix(y_true, y_pred, normalize='true')\n",
    "    }\n",
    "    \n",
    "    return metrics"
   ]
  },
  {
   "cell_type": "code",
   "execution_count": 17,
   "metadata": {},
   "outputs": [],
   "source": [
    "def plot_metrics(metrics, name, ax=None):\n",
    "    \"\"\"Plots a confusion matrix with summary statistics listed above the plot\n",
    "    \n",
    "    The annotations on the confusion matrix are the total counts while\n",
    "    the colormap represents those counts normalized to the total true items\n",
    "    in that class.\n",
    "    \n",
    "    Args:\n",
    "        metrics (dict): Dictionary output of `benchmark_performance`\n",
    "        name (str): Title for the plot\n",
    "        ax (optional, matplotlib subplot): Subplot axis to plot onto. \n",
    "            If not provided, a new plot is created\n",
    "        classes (optional, list): A list of the classes to label the X and y \n",
    "            axes. Defaults to [0, 1] for a two class problem.\n",
    "    \"\"\"\n",
    "    if ax is None:\n",
    "        fig, ax = plt.subplots(figsize=(5,5))\n",
    "    cb = ax.imshow(metrics['cm_norm'], cmap='Greens', vmin=0, vmax=1)\n",
    "    \n",
    "    classes = np.arange(metrics['cm'].shape[0])\n",
    "    plt.xticks(range(len(classes)), classes)\n",
    "    plt.yticks(range(len(classes)), classes)\n",
    "    ax.set_xlabel('Predicted Label')\n",
    "    ax.set_ylabel('True Label')\n",
    "\n",
    "    for i in range(len(classes)):\n",
    "        for j in range(len(classes)):\n",
    "            color='green' if metrics['cm_norm'][i,j] < 0.5 else 'white'\n",
    "            ax.annotate('{}'.format(metrics['cm'][i,j]), (j, i),\n",
    "                        color=color, va='center', ha='center')\n",
    "\n",
    "    _ = plt.colorbar(cb, ax=ax)\n",
    "    _ = ax.set_title(\n",
    "            '{}\\n'\\\n",
    "            'Recall: {}\\n'\\\n",
    "            'Precision: {}\\n'\\\n",
    "            'F1 Score: {}\\n'\\\n",
    "            ''.format(name, metrics['recall'], metrics['precision'], metrics['f1'])\n",
    "        )"
   ]
  },
  {
   "cell_type": "markdown",
   "metadata": {},
   "source": [
    "## Introduction to image filters\n",
    "\n",
    "Image filters operate by taking a small kernel (or matrix) and applying it to each pixel in the image to compute a new value. As an example, this is the identity kernel \n",
    "$$\n",
    "\\begin{bmatrix}\n",
    "    0 & 0 & 0 \\\\\n",
    "    0 & 1 & 0 \\\\\n",
    "    0 & 0 & 0 \\\\\n",
    "\\end{bmatrix}\n",
    "$$\n",
    "which when applied to an image will not result in any changes to the data.\n",
    "\n",
    "Filters can produce a variety of effects on images depending on how the kernel is configured. This can range from blurring an image to extracting edges. Filtered images can contain data that is more informative to the model when distinguishing between classes."
   ]
  },
  {
   "cell_type": "code",
   "execution_count": 19,
   "metadata": {},
   "outputs": [
    {
     "data": {
      "text/plain": [
       "Text(0.5, 1.0, 'Laplace')"
      ]
     },
     "execution_count": 19,
     "metadata": {},
     "output_type": "execute_result"
    },
    {
     "data": {
      "image/png": "[encoded data removed]",
      "text/plain": [
       "<Figure size 1000x400 with 3 Axes>"
      ]
     },
     "metadata": {},
     "output_type": "display_data"
    }
   ],
   "source": [
    "im = X[np.random.randint(X.shape[0]),...,0]\n",
    "fig, ax = plt.subplots(1, 3, figsize=(10, 4))\n",
    "\n",
    "ax[0].imshow(im)\n",
    "ax[0].set_title('Original')\n",
    "\n",
    "ax[1].imshow(skimage.filters.gaussian(im))\n",
    "ax[1].set_title('Gaussian')\n",
    "\n",
    "ax[2].imshow(skimage.filters.laplace(im))\n",
    "ax[2].set_title('Laplace')"
   ]
  },
  {
   "cell_type": "markdown",
   "metadata": {},
   "source": [
    "The effect of a filter can also be influenced by changing the sigma parameter which modifies the size of the kernel, as shown below for the Gaussian filter."
   ]
  },
  {
   "cell_type": "code",
   "execution_count": 21,
   "metadata": {},
   "outputs": [
    {
     "data": {
      "image/png": "[encoded data removed]",
      "text/plain": [
       "<Figure size 1500x400 with 4 Axes>"
      ]
     },
     "metadata": {},
     "output_type": "display_data"
    }
   ],
   "source": [
    "fig, ax = plt.subplots(1, 4, figsize=(15, 4))\n",
    "sigmas = [1, 2, 5, 10]\n",
    "\n",
    "for i, s in enumerate(sigmas):\n",
    "    ax[i].imshow(skimage.filters.gaussian(im, sigma=s))\n",
    "    ax[i].set_title('Sigma = {}'.format(s))"
   ]
  },
  {
   "cell_type": "markdown",
   "metadata": {},
   "source": [
    "A variety of filters are made available through the `skimage.filters` [module](https://scikit-image.org/docs/stable/api/skimage.filters.html). In this part of the exercise, we are going to explore how filters can be applied to images in order to extract features for model prediction. While we are going to work with the filters that are easily available through skimage, there are many other transformations that can be applied to images."
   ]
  },
  {
   "cell_type": "code",
   "execution_count": 23,
   "metadata": {},
   "outputs": [
    {
     "data": {
      "text/plain": [
       "['apply_hysteresis_threshold',\n",
       " 'butterworth',\n",
       " 'correlate_sparse',\n",
       " 'difference_of_gaussians',\n",
       " 'farid',\n",
       " 'farid_h',\n",
       " 'farid_v',\n",
       " 'frangi',\n",
       " 'gabor',\n",
       " 'gabor_kernel',\n",
       " 'gaussian',\n",
       " 'hessian',\n",
       " 'inverse',\n",
       " 'laplace',\n",
       " 'median',\n",
       " 'meijering',\n",
       " 'prewitt',\n",
       " 'prewitt_h',\n",
       " 'prewitt_v',\n",
       " 'rank_order',\n",
       " 'roberts',\n",
       " 'roberts_neg_diag',\n",
       " 'roberts_pos_diag',\n",
       " 'sato',\n",
       " 'scharr',\n",
       " 'scharr_h',\n",
       " 'scharr_v',\n",
       " 'sobel',\n",
       " 'sobel_h',\n",
       " 'sobel_v',\n",
       " 'threshold_isodata',\n",
       " 'threshold_li',\n",
       " 'threshold_local',\n",
       " 'threshold_mean',\n",
       " 'threshold_minimum',\n",
       " 'threshold_multiotsu',\n",
       " 'threshold_niblack',\n",
       " 'threshold_otsu',\n",
       " 'threshold_sauvola',\n",
       " 'threshold_triangle',\n",
       " 'threshold_yen',\n",
       " 'try_all_threshold',\n",
       " 'unsharp_mask',\n",
       " 'wiener',\n",
       " 'window']"
      ]
     },
     "execution_count": 23,
     "metadata": {},
     "output_type": "execute_result"
    }
   ],
   "source": [
    "from inspect import getmembers, isfunction\n",
    "\n",
    "# List all functions in the skimage.filters module to get a list of available filters\n",
    "[m[0] for m in getmembers(skimage.filters, isfunction)]"
   ]
  },
  {
   "cell_type": "markdown",
   "metadata": {},
   "source": [
    "## Explore available filters \n",
    "\n",
    "Test a variety of the available filters from the `skimage` module. Whenever you are making a modification to an image, you should check the results to make sure that errors are not introduced while generating the transformation. \n",
    "\n",
    "Ultimately we are going to use model performance to select the best features for our classification task, but you should be familiar with the output of any filters that you are using. The goal of this next section is to identify a set of candidate filters from which one will be chosen that you think will lead to better classification results on the two classes we are trying to distinguish.\n",
    "\n",
    "Keep the following things you may want to keep in mind as you approach this problem\n",
    "- Look at several randomly selected images from the two classes when you are testing a filter\n",
    "- Explore the effect of parameters available for each filter\n",
    "\n",
    "**Challenge**: While this task could be approached by testing filters one at a time, consider writing a for loop to rapidly test filters in an automated fashion.\n",
    "\n",
    "\n",
    "**Tip**: Within a jupyter notebook, you can run `function?` to look at the documentation for that function. Check out the example below."
   ]
  },
  {
   "cell_type": "code",
   "execution_count": 24,
   "metadata": {},
   "outputs": [
    {
     "data": {
      "text/plain": [
       "\u001b[0;31mSignature:\u001b[0m\n",
       "\u001b[0mskimage\u001b[0m\u001b[0;34m.\u001b[0m\u001b[0mfilters\u001b[0m\u001b[0;34m.\u001b[0m\u001b[0mgaussian\u001b[0m\u001b[0;34m(\u001b[0m\u001b[0;34m\u001b[0m\n",
       "\u001b[0;34m\u001b[0m    \u001b[0mimage\u001b[0m\u001b[0;34m,\u001b[0m\u001b[0;34m\u001b[0m\n",
       "\u001b[0;34m\u001b[0m    \u001b[0msigma\u001b[0m\u001b[0;34m=\u001b[0m\u001b[0;36m1\u001b[0m\u001b[0;34m,\u001b[0m\u001b[0;34m\u001b[0m\n",
       "\u001b[0;34m\u001b[0m    \u001b[0moutput\u001b[0m\u001b[0;34m=\u001b[0m\u001b[0;32mNone\u001b[0m\u001b[0;34m,\u001b[0m\u001b[0;34m\u001b[0m\n",
       "\u001b[0;34m\u001b[0m    \u001b[0mmode\u001b[0m\u001b[0;34m=\u001b[0m\u001b[0;34m'nearest'\u001b[0m\u001b[0;34m,\u001b[0m\u001b[0;34m\u001b[0m\n",
       "\u001b[0;34m\u001b[0m    \u001b[0mcval\u001b[0m\u001b[0;34m=\u001b[0m\u001b[0;36m0\u001b[0m\u001b[0;34m,\u001b[0m\u001b[0;34m\u001b[0m\n",
       "\u001b[0;34m\u001b[0m    \u001b[0mmultichannel\u001b[0m\u001b[0;34m=\u001b[0m\u001b[0;32mNone\u001b[0m\u001b[0;34m,\u001b[0m\u001b[0;34m\u001b[0m\n",
       "\u001b[0;34m\u001b[0m    \u001b[0mpreserve_range\u001b[0m\u001b[0;34m=\u001b[0m\u001b[0;32mFalse\u001b[0m\u001b[0;34m,\u001b[0m\u001b[0;34m\u001b[0m\n",
       "\u001b[0;34m\u001b[0m    \u001b[0mtruncate\u001b[0m\u001b[0;34m=\u001b[0m\u001b[0;36m4.0\u001b[0m\u001b[0;34m,\u001b[0m\u001b[0;34m\u001b[0m\n",
       "\u001b[0;34m\u001b[0m    \u001b[0;34m*\u001b[0m\u001b[0;34m,\u001b[0m\u001b[0;34m\u001b[0m\n",
       "\u001b[0;34m\u001b[0m    \u001b[0mchannel_axis\u001b[0m\u001b[0;34m=\u001b[0m\u001b[0;32mNone\u001b[0m\u001b[0;34m,\u001b[0m\u001b[0;34m\u001b[0m\n",
       "\u001b[0;34m\u001b[0m\u001b[0;34m)\u001b[0m\u001b[0;34m\u001b[0m\u001b[0;34m\u001b[0m\u001b[0m\n",
       "\u001b[0;31mDocstring:\u001b[0m\n",
       "Multi-dimensional Gaussian filter.\n",
       "\n",
       "Parameters\n",
       "----------\n",
       "image : array-like\n",
       "    Input image (grayscale or color) to filter.\n",
       "sigma : scalar or sequence of scalars, optional\n",
       "    Standard deviation for Gaussian kernel. The standard\n",
       "    deviations of the Gaussian filter are given for each axis as a\n",
       "    sequence, or as a single number, in which case it is equal for\n",
       "    all axes.\n",
       "output : array, optional\n",
       "    The ``output`` parameter passes an array in which to store the\n",
       "    filter output.\n",
       "mode : {'reflect', 'constant', 'nearest', 'mirror', 'wrap'}, optional\n",
       "    The ``mode`` parameter determines how the array borders are\n",
       "    handled, where ``cval`` is the value when mode is equal to\n",
       "    'constant'. Default is 'nearest'.\n",
       "cval : scalar, optional\n",
       "    Value to fill past edges of input if ``mode`` is 'constant'. Default\n",
       "    is 0.0\n",
       "multichannel : bool, optional (default: None)\n",
       "    Whether the last axis of the image is to be interpreted as multiple\n",
       "    channels. If True, each channel is filtered separately (channels are\n",
       "    not mixed together). Only 3 channels are supported. If ``None``,\n",
       "    the function will attempt to guess this, and raise a warning if\n",
       "    ambiguous, when the array has shape (M, N, 3).\n",
       "    This argument is deprecated: specify `channel_axis` instead.\n",
       "preserve_range : bool, optional\n",
       "    If True, keep the original range of values. Otherwise, the input\n",
       "    ``image`` is converted according to the conventions of ``img_as_float``\n",
       "    (Normalized first to values [-1.0 ; 1.0] or [0 ; 1.0] depending on\n",
       "    dtype of input)\n",
       "\n",
       "    For more information, see:\n",
       "    https://scikit-image.org/docs/dev/user_guide/data_types.html\n",
       "truncate : float, optional\n",
       "    Truncate the filter at this many standard deviations.\n",
       "channel_axis : int or None, optional\n",
       "    If None, the image is assumed to be a grayscale (single channel) image.\n",
       "    Otherwise, this parameter indicates which axis of the array corresponds\n",
       "    to channels.\n",
       "\n",
       "    .. versionadded:: 0.19\n",
       "       ``channel_axis`` was added in 0.19.\n",
       "\n",
       "Returns\n",
       "-------\n",
       "filtered_image : ndarray\n",
       "    the filtered array\n",
       "\n",
       "Notes\n",
       "-----\n",
       "This function is a wrapper around :func:`scipy.ndi.gaussian_filter`.\n",
       "\n",
       "Integer arrays are converted to float.\n",
       "\n",
       "The ``output`` should be floating point data type since gaussian converts\n",
       "to float provided ``image``. If ``output`` is not provided, another array\n",
       "will be allocated and returned as the result.\n",
       "\n",
       "The multi-dimensional filter is implemented as a sequence of\n",
       "one-dimensional convolution filters. The intermediate arrays are\n",
       "stored in the same data type as the output. Therefore, for output\n",
       "types with a limited precision, the results may be imprecise\n",
       "because intermediate results may be stored with insufficient\n",
       "precision.\n",
       "\n",
       "Examples\n",
       "--------\n",
       "\n",
       ">>> a = np.zeros((3, 3))\n",
       ">>> a[1, 1] = 1\n",
       ">>> a\n",
       "array([[0., 0., 0.],\n",
       "       [0., 1., 0.],\n",
       "       [0., 0., 0.]])\n",
       ">>> gaussian(a, sigma=0.4)  # mild smoothing\n",
       "array([[0.00163116, 0.03712502, 0.00163116],\n",
       "       [0.03712502, 0.84496158, 0.03712502],\n",
       "       [0.00163116, 0.03712502, 0.00163116]])\n",
       ">>> gaussian(a, sigma=1)  # more smoothing\n",
       "array([[0.05855018, 0.09653293, 0.05855018],\n",
       "       [0.09653293, 0.15915589, 0.09653293],\n",
       "       [0.05855018, 0.09653293, 0.05855018]])\n",
       ">>> # Several modes are possible for handling boundaries\n",
       ">>> gaussian(a, sigma=1, mode='reflect')\n",
       "array([[0.08767308, 0.12075024, 0.08767308],\n",
       "       [0.12075024, 0.16630671, 0.12075024],\n",
       "       [0.08767308, 0.12075024, 0.08767308]])\n",
       ">>> # For RGB images, each is filtered separately\n",
       ">>> from skimage.data import astronaut\n",
       ">>> image = astronaut()\n",
       ">>> filtered_img = gaussian(image, sigma=1, channel_axis=-1)\n",
       "\u001b[0;31mFile:\u001b[0m      ~/opt/anaconda3/envs/01_intro_ml/lib/python3.8/site-packages/skimage/_shared/filters.py\n",
       "\u001b[0;31mType:\u001b[0m      function\n"
      ]
     },
     "metadata": {},
     "output_type": "display_data"
    }
   ],
   "source": [
    "skimage.filters.gaussian?"
   ]
  },
  {
   "cell_type": "code",
   "execution_count": 25,
   "metadata": {},
   "outputs": [],
   "source": [
    "##########################\n",
    "######## To Do ###########\n",
    "##########################\n",
    "\n",
    "# Put your code for testing filters here"
   ]
  },
  {
   "cell_type": "markdown",
   "metadata": {},
   "source": [
    "## Checkpoint\n",
    "\n",
    "We'll discuss as a group which filters seem like they may be most effective at distinguishing our two classes. Please be prepared with your top two or three candidates. \n",
    "\n",
    "*Bonus:* Collect screenshots of your filtering results to share with the group. Look out for a slack message for instructions on how to submit images."
   ]
  },
  {
   "cell_type": "markdown",
   "metadata": {},
   "source": [
    "## Training model variants\n",
    "Starting with a few of your top choices for filters, train a model on each filter variation and compare the results. Again as an extra challenge, you can write a for loop to automate this process.\n",
    "\n",
    "You will roughly need to follow these steps:\n",
    "- Create a new version of `X` and `y` with the filter applied. Make sure that you are working on a new copy of the original data each time you apply a filter. You can use `copy.deepcopy` to create a new copy of an array.\n",
    "- Create a new `DatasetBuilder` object with the filtered images\n",
    "    ```\n",
    "    with tf.device('CPU:0'):\n",
    "        db = DatasetBuilder(X, y, batch_size=64)\n",
    "    ```\n",
    "- Train a model using the functions `create_linear_classifier` and `train_model` that are defined in an earlier section of the notebook\n",
    "- Benchmark and collect the metrics for each model variant "
   ]
  },
  {
   "cell_type": "code",
   "execution_count": 31,
   "metadata": {},
   "outputs": [],
   "source": [
    "##########################\n",
    "######## To Do ###########\n",
    "##########################\n",
    "\n",
    "# Your code for training and comparing models here"
   ]
  },
  {
   "cell_type": "markdown",
   "metadata": {},
   "source": [
    "## Checkpoint\n",
    "\n",
    "We'll discuss as a group what filters worked best to distinguish between the two classes. When you're ready, you can submit your best model to this [google form](https://docs.google.com/forms/d/e/1FAIpQLSfVblJCnprXct0IrS87cGw4ijpH2h6bKvcXqj7RNraMrSP3PA/viewform?usp=sf_link). \n",
    "\n",
    "## Bonus\n",
    "\n",
    "If you have extra time, try one of the following challenges:\n",
    "- How does your selected filter perform on another pair of classes in this dataset?\n",
    "- Can you automate the search for the top performing filter by writing a function that ultimately reports the top performer?"
   ]
  }
 ],
 "metadata": {
  "kernelspec": {
   "display_name": "Python [conda env:01_intro_ml]",
   "language": "python",
   "name": "conda-env-01_intro_ml-py"
  },
  "language_info": {
   "codemirror_mode": {
    "name": "ipython",
    "version": 3
   },
   "file_extension": ".py",
   "mimetype": "text/x-python",
   "name": "python",
   "nbconvert_exporter": "python",
   "pygments_lexer": "ipython3",
   "version": "3.8.13"
  }
 },
 "nbformat": 4,
 "nbformat_minor": 5
}
